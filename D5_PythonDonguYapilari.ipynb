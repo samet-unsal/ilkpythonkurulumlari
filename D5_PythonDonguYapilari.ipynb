{
  "nbformat": 4,
  "nbformat_minor": 0,
  "metadata": {
    "colab": {
      "provenance": []
    },
    "kernelspec": {
      "name": "python3",
      "display_name": "Python 3"
    },
    "language_info": {
      "name": "python"
    }
  },
  "cells": [
    {
      "cell_type": "code",
      "execution_count": 5,
      "metadata": {
        "colab": {
          "base_uri": "https://localhost:8080/"
        },
        "id": "ogNKLXfQ-zIA",
        "outputId": "9dffb0b1-e1b6-40f1-a238-07aa40731895"
      },
      "outputs": [
        {
          "output_type": "stream",
          "name": "stdout",
          "text": [
            "Merhaba, İGÜ - İSTKA / Ders 5\n"
          ]
        }
      ],
      "source": [
        "print(\"Merhaba, İGÜ - İSTKA / Ders 5\")"
      ]
    },
    {
      "cell_type": "code",
      "source": [
        "import sys\n",
        "print(sys.version)"
      ],
      "metadata": {
        "colab": {
          "base_uri": "https://localhost:8080/"
        },
        "id": "t9slWxcf_OvI",
        "outputId": "f4c75bd0-82ee-4624-b27e-987961c2b276"
      },
      "execution_count": 6,
      "outputs": [
        {
          "output_type": "stream",
          "name": "stdout",
          "text": [
            "3.10.12 (main, Jul 29 2024, 16:56:48) [GCC 11.4.0]\n"
          ]
        }
      ]
    },
    {
      "cell_type": "code",
      "source": [
        "from google.colab import drive\n",
        "drive.mount('/content/drive')"
      ],
      "metadata": {
        "colab": {
          "base_uri": "https://localhost:8080/"
        },
        "id": "4z2LYypY-8Vw",
        "outputId": "415bdaed-1336-4376-da2e-f1f3c14eb9db"
      },
      "execution_count": 7,
      "outputs": [
        {
          "output_type": "stream",
          "name": "stdout",
          "text": [
            "Mounted at /content/drive\n"
          ]
        }
      ]
    },
    {
      "cell_type": "code",
      "source": [
        "import os\n",
        "os.chdir('/content/drive/My Drive/VERIYAPILARI_ISTKA')\n",
        "!pwd"
      ],
      "metadata": {
        "colab": {
          "base_uri": "https://localhost:8080/"
        },
        "id": "kLJT8NVr_FDn",
        "outputId": "1d0d1a58-7106-472e-9ea3-6fe41865bcb5"
      },
      "execution_count": 8,
      "outputs": [
        {
          "output_type": "stream",
          "name": "stdout",
          "text": [
            "/content/drive/My Drive/VERIYAPILARI_ISTKA\n"
          ]
        }
      ]
    },
    {
      "cell_type": "markdown",
      "source": [
        "PYTHON Döngü Yapıları\n",
        "\n",
        "\n",
        "Döngüler, belirli bir kod bölümünün birden fazla çalıştırmamıza olanak tanır.\n",
        "Döngüler, genellikle yazılımda tekrar eden işlemler için kullanılır.\n",
        "\n",
        "\n",
        "\n",
        "---\n",
        "\n",
        "\n",
        "Döngü Türleri:\n",
        "\n",
        "1.   for Döngüsü--> Belirli bir sıralama üzerinde iterasyon yapmak için kullanılır. Genellikle bir liste, dizi veya range fonksiyonu ile kullanılır.\n",
        "2.  while Döngüsü--> Belirli bir koşul doğru olduğu sürece kod bloğunu çalıştırır.\n",
        "\n",
        "\n",
        "\n",
        "---\n",
        "\n",
        "Döngü Kontrol Yapıları:\n",
        "\n",
        "1.   break--> Döngüyü tamamen sonlandırır.\n",
        "2.   continue--> Döngünün o anki tekrarı-iterasyonunu sonlandırır ve bir sonraki tekrara-iterasyona geçer.\n",
        "\n",
        "\n",
        "---\n",
        "\n",
        "Döngü İçinde Döngü (İç İçe Döngüler):\n",
        "\n",
        "1. İç İçe for Döngüsü\n",
        "2. İç İçe while Döngüsü"
      ],
      "metadata": {
        "id": "G7yT7b6IADZP"
      }
    },
    {
      "cell_type": "code",
      "source": [
        "# for dongusu ornegi: 0'dan 5'e kadar olan sayilari yazdirilmasi islemidir.\n",
        "for i in range(5): # default kullanımda 0'dan başlar. Iterasyon için baslangic degerinden baslanir ancak son deger alinmaz.\n",
        "  print(i,end=\" \")\n",
        "print(\"\\n\")\n",
        "for i in range(1,5):  # 1'den baslayip 5'e kadar iterasyon saglanir ancak 5 dahil edilmez (son deger oldugu icin)\n",
        "  print(i,end=\" \")"
      ],
      "metadata": {
        "colab": {
          "base_uri": "https://localhost:8080/"
        },
        "id": "Z8U8K1Ax_flv",
        "outputId": "a99a572e-8071-40f9-d923-2a8cbfafd8fd"
      },
      "execution_count": 9,
      "outputs": [
        {
          "output_type": "stream",
          "name": "stdout",
          "text": [
            "0 1 2 3 4 \n",
            "\n",
            "1 2 3 4 "
          ]
        }
      ]
    },
    {
      "cell_type": "code",
      "source": [
        "# for dongusu ornegi: alısveris listesi olusturma\n",
        "liste = [\"elma\", \"ekmek\", \"süt\", \"peynir\"]\n",
        "\n",
        "for alinacaklar in liste:\n",
        "  print(alinacaklar)\n"
      ],
      "metadata": {
        "colab": {
          "base_uri": "https://localhost:8080/"
        },
        "id": "dbcAhiWbFE-s",
        "outputId": "4b47c9c2-2598-4f39-94dc-f6f882153d6b"
      },
      "execution_count": 10,
      "outputs": [
        {
          "output_type": "stream",
          "name": "stdout",
          "text": [
            "elma\n",
            "ekmek\n",
            "süt\n",
            "peynir\n"
          ]
        }
      ]
    },
    {
      "cell_type": "code",
      "source": [
        "# for dongusu ile bir siniftaki ogrencilerin notlarinin ortalamasini bulma\n",
        "notlar = []\n",
        "toplam = 0\n",
        "\n",
        "girilecek_not = int(input(\"Kaç tane not gireceksini?: \"))\n",
        "print(\"Lütfen bir sayı giriniz.\")\n",
        "\n",
        "for i in range(girilecek_not):\n",
        "    notlar.append(int(input(\"Notu giriniz: \")))\n",
        "\n",
        "for sayi in notlar:\n",
        "    toplam+= sayi\n",
        "\n",
        "ortalama = toplam / len(notlar)\n",
        "\n",
        "print(\"Birinci print -> Not Ortalaması:\", ortalama)\n",
        "print(f\"İkinci print -> Not ortalaması: {ortalama}\")"
      ],
      "metadata": {
        "colab": {
          "base_uri": "https://localhost:8080/"
        },
        "id": "i9-V05r_Hn0E",
        "outputId": "84641f09-ab65-481d-b6e5-2ecca017fcb1"
      },
      "execution_count": 11,
      "outputs": [
        {
          "output_type": "stream",
          "name": "stdout",
          "text": [
            "Kaç tane not gireceksini?: 5\n",
            "Lütfen bir sayı giriniz.\n",
            "Notu giriniz: 654\n",
            "Notu giriniz: 45\n",
            "Notu giriniz: 45\n",
            "Notu giriniz: 45\n",
            "Notu giriniz: 54\n",
            "Birinci print -> Not Ortalaması: 168.6\n",
            "İkinci print -> Not ortalaması: 168.6\n"
          ]
        }
      ]
    },
    {
      "cell_type": "code",
      "source": [
        "545# while dongusu ornegi: 0'dan 5'e kadar olan sayilarin yazdırılmasi\n",
        "i = 0\n",
        "while i < 5:\n",
        "  print(i)\n",
        "  i+=1"
      ],
      "metadata": {
        "colab": {
          "base_uri": "https://localhost:8080/"
        },
        "id": "-p_BYLmFSiZ3",
        "outputId": "ec46c856-181c-4c17-c46e-688226239102"
      },
      "execution_count": 12,
      "outputs": [
        {
          "output_type": "stream",
          "name": "stdout",
          "text": [
            "0\n",
            "1\n",
            "2\n",
            "3\n",
            "4\n"
          ]
        }
      ]
    },
    {
      "cell_type": "code",
      "source": [
        "# kullanicidan bir sayi alinmasi\n",
        "user_input = int(input(\"Bir sayı girin: \"))\n",
        "# 0'dan kullanıcı tarafindan girilen sayiya kadar siralama yapma\n",
        "\n",
        "i=0\n",
        "while i <= user_input:\n",
        "  print(i, end=\" \")\n",
        "  i+=1"
      ],
      "metadata": {
        "colab": {
          "base_uri": "https://localhost:8080/"
        },
        "id": "Fb8oxGRiWH7X",
        "outputId": "2bc9e73a-dab0-4277-9aae-7e006c3e83a1"
      },
      "execution_count": 13,
      "outputs": [
        {
          "output_type": "stream",
          "name": "stdout",
          "text": [
            "Bir sayı girin: 5\n",
            "0 1 2 3 4 5 "
          ]
        }
      ]
    },
    {
      "cell_type": "code",
      "source": [
        "while True:\n",
        "  try:\n",
        "    gelen_bilgi = int(input(\"Bir sayı giriniz: \"))\n",
        "    break\n",
        "  except ValueError:\n",
        "    print(\"Lütfen geçerli bir sayı giriniz:\")\n",
        "    break\n",
        "i = 0\n",
        "while i<= gelen_bilgi:\n",
        "  print(i)\n",
        "  i+=1"
      ],
      "metadata": {
        "colab": {
          "base_uri": "https://localhost:8080/"
        },
        "id": "SOeYjoE6Wsfv",
        "outputId": "8cde4401-d733-4da3-cbb7-b916f5fe3a55"
      },
      "execution_count": 14,
      "outputs": [
        {
          "output_type": "stream",
          "name": "stdout",
          "text": [
            "Bir sayı giriniz: 5\n",
            "0\n",
            "1\n",
            "2\n",
            "3\n",
            "4\n",
            "5\n"
          ]
        }
      ]
    },
    {
      "cell_type": "code",
      "source": [
        "# break ornegi: 3'e ulastiginda dongu sonlandiran kod blogudur.\n",
        "\n",
        "for i in range(5):\n",
        "  if i == 3:\n",
        "    continue\n",
        "  print(i)"
      ],
      "metadata": {
        "colab": {
          "base_uri": "https://localhost:8080/"
        },
        "id": "vy2GiXlEXxbX",
        "outputId": "8917f0ad-ba0d-4351-fbea-180a6f006aed"
      },
      "execution_count": 15,
      "outputs": [
        {
          "output_type": "stream",
          "name": "stdout",
          "text": [
            "0\n",
            "1\n",
            "2\n",
            "4\n"
          ]
        }
      ]
    },
    {
      "cell_type": "code",
      "source": [
        "# ic ice dongu ornegi: 2 boyutlu bir matrisin elemanlari uzerinde islemler\n",
        "\n",
        "matris = [\n",
        "    [1,2,3],\n",
        "    [4,5,6],\n",
        "    [7,8,9]\n",
        "]\n",
        "\n",
        "for x in matris:\n",
        "  for y in x:\n",
        "    print(y)"
      ],
      "metadata": {
        "colab": {
          "base_uri": "https://localhost:8080/"
        },
        "id": "5pFysuKWYXR3",
        "outputId": "1a68170d-0633-4a17-d597-6fd90cc982bd"
      },
      "execution_count": 16,
      "outputs": [
        {
          "output_type": "stream",
          "name": "stdout",
          "text": [
            "1\n",
            "2\n",
            "3\n",
            "4\n",
            "5\n",
            "6\n",
            "7\n",
            "8\n",
            "9\n"
          ]
        }
      ]
    },
    {
      "cell_type": "code",
      "source": [
        "toplam_ucret = 1000\n",
        "\n",
        "while toplam_ucret > 0:\n",
        "  try:\n",
        "    cekilen_tutar = int(input(\"Çekmek istediğiniz tutatarı giriniz: \"))\n",
        "    if cekilen_tutar > toplam_ucret:\n",
        "      print(\"Yetersiz bakiye!\")\n",
        "      bilgi = input(\"İşleme devam etmek istiyor musunuz? (e/h)\").lower()\n",
        "      if bilgi == \"h\":\n",
        "        print(\"İşlem sonlandırıldı.\")\n",
        "        break\n",
        "\n",
        "    else:\n",
        "      toplam_ucret-=cekilen_tutar\n",
        "      print(\"Kalan bakiyeniz: \",toplam_ucret)\n",
        "\n",
        "    if cekilen_tutar == toplam_ucret:\n",
        "      print(\"Bakiyeniz 0!\")\n",
        "      break\n",
        "  except ValueError:\n",
        "    print(\"Lütfen geçerli bir sayı giriniz.\")"
      ],
      "metadata": {
        "colab": {
          "base_uri": "https://localhost:8080/"
        },
        "id": "m_OQk056ZXPO",
        "outputId": "8c417e62-96df-4d25-b826-042a9d4fd5a7"
      },
      "execution_count": 17,
      "outputs": [
        {
          "output_type": "stream",
          "name": "stdout",
          "text": [
            "Çekmek istediğiniz tutatarı giriniz: 650\n",
            "Kalan bakiyeniz:  350\n",
            "Çekmek istediğiniz tutatarı giriniz: 300\n",
            "Kalan bakiyeniz:  50\n",
            "Çekmek istediğiniz tutatarı giriniz: 50\n",
            "Kalan bakiyeniz:  0\n"
          ]
        }
      ]
    },
    {
      "cell_type": "code",
      "source": [
        "sayi= abs(int(input(\"Bir sayı girin: \")))\n",
        "\n",
        "bolen_listesi  = list()\n",
        "bolen=1\n",
        "\n",
        "while bolen <=sayi:\n",
        "  while sayi%bolen == 0:\n",
        "    bolen_listesi.append(bolen)\n",
        "    bolen+=1\n",
        "\n",
        "  if len(bolen_listesi) > 2:\n",
        "    print(\"Sayı asal değildir ve bölenleri şu şekildedir:\")\n",
        "    for bolenler in bolen_listesi:\n",
        "      if bolenler == 1:\n",
        "        continue\n",
        "      print(bolenler,end=\" \")\n",
        "    break\n",
        "  else:\n",
        "    print(\"Sayı asaldır\")\n",
        "    break"
      ],
      "metadata": {
        "colab": {
          "base_uri": "https://localhost:8080/"
        },
        "id": "S7Yb512fbigc",
        "outputId": "e6dc0cbb-30ca-4f31-c3b0-6e8931c72fba"
      },
      "execution_count": 18,
      "outputs": [
        {
          "output_type": "stream",
          "name": "stdout",
          "text": [
            "Bir sayı girin: 5\n",
            "Sayı asaldır\n"
          ]
        }
      ]
    },
    {
      "cell_type": "code",
      "source": [],
      "metadata": {
        "id": "3gBX1D4Ehlax"
      },
      "execution_count": null,
      "outputs": []
    }
  ]
}