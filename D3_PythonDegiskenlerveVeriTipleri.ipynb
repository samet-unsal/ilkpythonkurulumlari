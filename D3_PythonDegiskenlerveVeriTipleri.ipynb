{
  "nbformat": 4,
  "nbformat_minor": 0,
  "metadata": {
    "colab": {
      "provenance": []
    },
    "kernelspec": {
      "name": "python3",
      "display_name": "Python 3"
    },
    "language_info": {
      "name": "python"
    }
  },
  "cells": [
    {
      "cell_type": "code",
      "execution_count": 1,
      "metadata": {
        "colab": {
          "base_uri": "https://localhost:8080/"
        },
        "id": "cjtX_dAxnmL5",
        "outputId": "4e4cec69-55c9-4c83-f5e9-5cab002eb238"
      },
      "outputs": [
        {
          "output_type": "stream",
          "name": "stdout",
          "text": [
            "Merhaba İGÜ - İSTKA - Veri Yapıları ve Algoritma 3.Ders\n"
          ]
        }
      ],
      "source": [
        "print(\"Merhaba İGÜ - İSTKA - Veri Yapıları ve Algoritma 3.Ders\")"
      ]
    },
    {
      "cell_type": "code",
      "source": [
        "import sys # import python programlama dilinde yazılıma kütüphane eklemeye yarayan bir kod blogudur.\n",
        "print(sys.version)"
      ],
      "metadata": {
        "colab": {
          "base_uri": "https://localhost:8080/"
        },
        "id": "_eyxOIBWnvRU",
        "outputId": "43da7b54-87ac-43c4-8923-2927038c2d24"
      },
      "execution_count": 31,
      "outputs": [
        {
          "output_type": "stream",
          "name": "stdout",
          "text": [
            "3.10.12 (main, Jul 29 2024, 16:56:48) [GCC 11.4.0]\n"
          ]
        }
      ]
    },
    {
      "cell_type": "code",
      "source": [
        "from google.colab import drive\n",
        "drive.mount('/content/drive')"
      ],
      "metadata": {
        "colab": {
          "base_uri": "https://localhost:8080/"
        },
        "id": "92K30isVn0pK",
        "outputId": "242491c5-430d-429a-bc2a-ac0c77146914"
      },
      "execution_count": 3,
      "outputs": [
        {
          "output_type": "stream",
          "name": "stdout",
          "text": [
            "Mounted at /content/drive\n"
          ]
        }
      ]
    },
    {
      "cell_type": "code",
      "source": [
        "import os\n",
        "os.chdir('/content/drive/My Drive/VERIYAPILARI_ISTKA')\n",
        "!pwd # bize kodun çıktısını dosya yolu olarak veren kod blogudur."
      ],
      "metadata": {
        "colab": {
          "base_uri": "https://localhost:8080/"
        },
        "id": "nfbMk-bWn5Ub",
        "outputId": "2f43af97-7540-4cbb-cae6-14f24b75d394"
      },
      "execution_count": 30,
      "outputs": [
        {
          "output_type": "stream",
          "name": "stdout",
          "text": [
            "/content/drive/My Drive/VERIYAPILARI_ISTKA\n"
          ]
        }
      ]
    },
    {
      "cell_type": "code",
      "source": [
        "# Örnek değişken atamaları\n",
        "degisken_1 = 10\n",
        "Degisken2 = 20\n",
        "_degisken3= 30"
      ],
      "metadata": {
        "id": "QNhA8VH5vqWM"
      },
      "execution_count": 38,
      "outputs": []
    },
    {
      "cell_type": "code",
      "source": [
        "# Geçersiz değişken tanımlaması\n",
        "# 1degisken = 40 # degisken tanimlanirken degisken isminin basina rakam konulmaz\n",
        "# degisken-4 = 50 # degisken tanimlarken atama operatorunun sol tarafina işlem operatoru konulmaz"
      ],
      "metadata": {
        "id": "FgW1f522wHbU"
      },
      "execution_count": 42,
      "outputs": []
    },
    {
      "cell_type": "code",
      "source": [
        " #Degisken Tanimlama İslemi\n",
        "\n",
        "x = 5\n",
        "y = \"Merhaba dünya\"\n",
        "\n",
        "#C dilinde degisken tanımlanırken fark sadece degiskenin basina degisken turu ve satir sonuna \";\" ibaresi yazılmasidir.\n",
        "# int x = 5;\n",
        "# char y = \"Merhaba dünya\"; gibi\n",
        "print(x)\n",
        "print(y)"
      ],
      "metadata": {
        "colab": {
          "base_uri": "https://localhost:8080/"
        },
        "id": "ybRFJVrGwOk-",
        "outputId": "b47b8cb4-825b-4132-be16-297beef7dc11"
      },
      "execution_count": 52,
      "outputs": [
        {
          "output_type": "stream",
          "name": "stdout",
          "text": [
            "5\n",
            "Merhaba dünya\n"
          ]
        }
      ]
    },
    {
      "cell_type": "code",
      "source": [
        "#Integer Tanimlama\n",
        "a = 10\n",
        "print(type(a)) #fonksiyonu değişken tipini döndürür."
      ],
      "metadata": {
        "colab": {
          "base_uri": "https://localhost:8080/"
        },
        "id": "CHUAVxtsxlX5",
        "outputId": "3b015a8d-f1fc-45bb-b0f6-d6b3ba685126"
      },
      "execution_count": 45,
      "outputs": [
        {
          "output_type": "stream",
          "name": "stdout",
          "text": [
            "<class 'int'>\n"
          ]
        }
      ]
    },
    {
      "cell_type": "code",
      "source": [
        "#Float - Ondalikli Sayi Tanimlama\n",
        "b = 18.2\n",
        "print(type(b))"
      ],
      "metadata": {
        "colab": {
          "base_uri": "https://localhost:8080/"
        },
        "id": "wNVsbWBHypqa",
        "outputId": "5375a672-9b4f-4cb1-b67c-8c2dfd24dd5f"
      },
      "execution_count": 46,
      "outputs": [
        {
          "output_type": "stream",
          "name": "stdout",
          "text": [
            "<class 'float'>\n"
          ]
        }
      ]
    },
    {
      "cell_type": "code",
      "source": [
        "#Int'ten float'a cevrimin gerceklesmesi\n",
        "c = 10\n",
        "d = float(c)\n",
        "print(type(d))"
      ],
      "metadata": {
        "colab": {
          "base_uri": "https://localhost:8080/"
        },
        "id": "x7i9o1J6zBel",
        "outputId": "68bdb00d-4f9e-4ae9-8d42-655003575318"
      },
      "execution_count": 53,
      "outputs": [
        {
          "output_type": "stream",
          "name": "stdout",
          "text": [
            "<class 'float'>\n"
          ]
        }
      ]
    },
    {
      "cell_type": "code",
      "source": [
        "#Float'tan int'e çevrimin gerceklesmesi\n",
        "e = 28.5\n",
        "f = int(e)\n",
        "print(f, type(f))"
      ],
      "metadata": {
        "colab": {
          "base_uri": "https://localhost:8080/"
        },
        "id": "o3dnRfLRznTB",
        "outputId": "ebcd3694-e718-43bb-cfe8-b14a0f352802"
      },
      "execution_count": 49,
      "outputs": [
        {
          "output_type": "stream",
          "name": "stdout",
          "text": [
            "28 <class 'int'>\n"
          ]
        }
      ]
    },
    {
      "cell_type": "code",
      "source": [
        "#String - Metinsel icerik tanimlamasi\n",
        "\n",
        "c = \"Python Programlama\" #string tanimlarken tırnak isareti icerisinde tanimlariz.\n",
        "print(c)\n",
        "print(type(c))\n"
      ],
      "metadata": {
        "colab": {
          "base_uri": "https://localhost:8080/"
        },
        "id": "GsM9JChTz9em",
        "outputId": "5c27fa61-3857-4660-bbb9-2585cef53348"
      },
      "execution_count": 51,
      "outputs": [
        {
          "output_type": "stream",
          "name": "stdout",
          "text": [
            "Python Programlama\n",
            "<class 'str'>\n"
          ]
        }
      ]
    },
    {
      "cell_type": "code",
      "source": [
        "# Boolean (Treue - False) - Doğru / Yanlış Tanimlamasi\n",
        "d = True\n",
        "e = False\n",
        "print(d)\n",
        "print(type(e))"
      ],
      "metadata": {
        "colab": {
          "base_uri": "https://localhost:8080/"
        },
        "id": "1zUMDUTU6Udi",
        "outputId": "44f489be-edf8-4966-9694-9c307591e701"
      },
      "execution_count": 55,
      "outputs": [
        {
          "output_type": "stream",
          "name": "stdout",
          "text": [
            "True\n",
            "<class 'bool'>\n"
          ]
        }
      ]
    },
    {
      "cell_type": "code",
      "source": [
        "# List - Liste Tanimlamasi\n",
        "my_list = [1,2,3,4,5] # liste tanimlanirlen köseli parantez kullanilir ve elemanlar birbirinden \",\" ile ayrılır.\n",
        "\n",
        "# yapay zeka uygulamalarinda liste tipi veriler (koseli parantez) kullanılır.\n",
        "\n",
        "print(type(my_list))\n",
        "print(my_list)"
      ],
      "metadata": {
        "colab": {
          "base_uri": "https://localhost:8080/"
        },
        "id": "EYiCIMkB7FK0",
        "outputId": "7ae72554-27b6-48e6-dfaa-4e6e8eed4737"
      },
      "execution_count": 65,
      "outputs": [
        {
          "output_type": "stream",
          "name": "stdout",
          "text": [
            "<class 'list'>\n",
            "[1, 2, 3, 4, 5]\n"
          ]
        }
      ]
    },
    {
      "cell_type": "code",
      "source": [
        "# Tuple - Demet tanimlamasi\n",
        "\n",
        "my_tuple = (1,2,3,4,5) # tuple tanimlanirken normal parantez kullanilir.\n",
        "\n",
        "# sunucu tarzi sureclerle ugrasirken ise tuple - demet tipi veri yapilari kullanilir.\n",
        "\n",
        "print(type(my_tuple))\n",
        "print(my_tuple)"
      ],
      "metadata": {
        "colab": {
          "base_uri": "https://localhost:8080/"
        },
        "id": "UuUPwZXq82Pf",
        "outputId": "92f6457b-4f3c-426c-f48e-11628d3a6eec"
      },
      "execution_count": 73,
      "outputs": [
        {
          "output_type": "stream",
          "name": "stdout",
          "text": [
            "<class 'tuple'>\n",
            "(1, 2, 3, 4, 5)\n"
          ]
        }
      ]
    },
    {
      "cell_type": "markdown",
      "source": [
        "Dictionary - Sözlük Nedir?\n",
        "\n",
        "\n",
        "1.   Sözlükler, anahtar-değer (key-value) çiftlerini depolayan veri yapılarıdır.\n",
        "2.   Her anahtar benzersizdir ve bir değere karşılık gelir.\n",
        "3.   Sözlükler sırasızdır ve değiştirilebilir.\n",
        "\n",
        "Sözlük Metotları\n",
        "\n",
        "1.   keys(): Sözlüğün anahtarlarını döner.\n",
        "2.   values(): Sözlüğün değerlerini döner.\n",
        "3.   items(): Sözlüğün anahtar-değer çiftlerini döner.\n",
        "\n",
        "\n",
        "\n",
        "\n"
      ],
      "metadata": {
        "id": "W9CUf5RwAadP"
      }
    },
    {
      "cell_type": "code",
      "source": [
        "# Dictionary - Sozluk Ornegi -> Ogrencilerin notlarının tutan bir sozluk\n",
        "notlar = {\n",
        "    \"Ali\" : 85,\n",
        "    \"Veli\" : 90,  # dictionary - sozluk yapilarinda anahatar - deger atamasi yapilirken atama isareti olarak \":\" kullanilir.\n",
        "    \"Ayşe\" : 78\n",
        "}\n",
        "\n",
        "notlar[\"Fatma\"] = 92 # Yeni öğrenci eklendi\n",
        "\n",
        "notlar[\"Ali\"] = 88 # Sozluk ogelerinden birinin degeri guncellendi.\n",
        "\n",
        "print(notlar)"
      ],
      "metadata": {
        "colab": {
          "base_uri": "https://localhost:8080/"
        },
        "id": "-Uj686k5BCe7",
        "outputId": "febbc197-6d47-40d2-8f7a-eed38eb42faa"
      },
      "execution_count": 88,
      "outputs": [
        {
          "output_type": "stream",
          "name": "stdout",
          "text": [
            "{'Ali': 88, 'Veli': 90, 'Ayşe': 78, 'Fatma': 92}\n"
          ]
        }
      ]
    },
    {
      "cell_type": "code",
      "source": [
        "print(notlar.keys()) # dict_keys(['isim', 'yas', 'meslek'])\n",
        "print(notlar.values()) # dict_values(['Ahmet', 26, 'Mühendis])\n",
        "print(notlar.items()) # dict_items([('isim, 'Ahmet]), ('yas', 26), ('meslek', 'Mühendis)])\n"
      ],
      "metadata": {
        "colab": {
          "base_uri": "https://localhost:8080/"
        },
        "id": "kX_03VO3BiCx",
        "outputId": "bb74ad60-54af-4269-9f98-85e13c12bf7b"
      },
      "execution_count": 87,
      "outputs": [
        {
          "output_type": "stream",
          "name": "stdout",
          "text": [
            "dict_keys(['Ali', 'Veli', 'Ayşe', 'Fatma'])\n",
            "dict_values([88, 90, 78, 92])\n",
            "dict_items([('Ali', 88), ('Veli', 90), ('Ayşe', 78), ('Fatma', 92)])\n"
          ]
        }
      ]
    },
    {
      "cell_type": "markdown",
      "source": [
        "Set - Küme Nedir?\n",
        "\n",
        "1.   Kümeler, benzersiz elemanlardan oluşan sırasız koleksiyonlardır.\n",
        "2.   Kümeler değiştirilebilir ve tekrarlayan eleman içermez.\n",
        "\n",
        "Küme Metotları\n",
        "\n",
        "\n",
        "1.   add(): Küme içerisine eleman ekler.\n",
        "2.   remove(): Küme içerisinden eleman siler.\n",
        "3.   union(): İki kümenin birleşimini döner.\n",
        "4.   intersection(): İki kümenin kesişimini döner.\n",
        "5.   difference(): İki kümenin farkını döner."
      ],
      "metadata": {
        "id": "FmNQDj7pFfDQ"
      }
    },
    {
      "cell_type": "code",
      "source": [
        " # Set - Kume Ornegi -> Bir yazilim etkinligine katilan kisilerin olusturdugu kumeler\n",
        " kodyazanlar = {\"Ahmet\", \"Mehmet\", \"Ayşe\"}\n",
        " kodyazmayanlar = {\"Ayşe\", \"Fatma\", \"Veli\"}\n",
        "\n",
        " # Kafasina gore takilanlar\n",
        " ortak = kodyazmayanlar.intersection(kodyazanlar)\n",
        " print(\"Kafasına Göre Takılanlar Listesi:\", ortak)\n",
        "\n",
        " #Etkinlikte Kod Yazmayan Ogrencilerin Tespiti\n",
        " Kod_yazmayan = kodyazmayanlar.difference(kodyazanlar)\n",
        " print(\"Kod çalışması yapmayan öğrenci listesi:\", Kod_yazmayan)\n",
        "\n",
        "# Yazılım Egitminin Ogrenci Imza Listesi\n",
        "imza_listesi=kodyazanlar.union(kodyazmayanlar)\n",
        "print(\"Etkinlik Katılımcıları:\", imza_listesi)\n",
        "\n",
        "# Kumede bir eleman sadece bir kez yazılabilir. Eleman sırası fark etmez."
      ],
      "metadata": {
        "colab": {
          "base_uri": "https://localhost:8080/"
        },
        "id": "Xp2PUSVCF4M9",
        "outputId": "f8411688-d22e-4cee-fb38-aa292cef20de"
      },
      "execution_count": 92,
      "outputs": [
        {
          "output_type": "stream",
          "name": "stdout",
          "text": [
            "Kafasına Göre Takılanlar Listesi: {'Ayşe'}\n",
            "Kod çalışması yapmayan öğrenci listesi: {'Veli', 'Fatma'}\n",
            "Etkinlik Katılımcıları: {'Fatma', 'Ahmet', 'Veli', 'Ayşe', 'Mehmet'}\n"
          ]
        }
      ]
    },
    {
      "cell_type": "code",
      "source": [
        "giris = input(\"Bir sayı girin: \")\n",
        "try:\n",
        "  num = float(giris)\n",
        "  print(f\"Girilen sayı : {num}, tipi: {type(num)},\", abs(num))\n",
        "except ValueError:\n",
        "  print(\"Geçersiz sayı girdiniz.\")"
      ],
      "metadata": {
        "colab": {
          "base_uri": "https://localhost:8080/"
        },
        "id": "dv4GHlc5Hcfo",
        "outputId": "4fb55881-e0ce-49a7-b853-469a4374b683"
      },
      "execution_count": 97,
      "outputs": [
        {
          "output_type": "stream",
          "name": "stdout",
          "text": [
            "Bir sayı girin: -19.5\n",
            "Girilen sayı : -19.5, tipi: <class 'float'>, 19.5\n"
          ]
        }
      ]
    },
    {
      "cell_type": "code",
      "source": [],
      "metadata": {
        "id": "B0NrmBhENGaq"
      },
      "execution_count": null,
      "outputs": []
    }
  ]
}