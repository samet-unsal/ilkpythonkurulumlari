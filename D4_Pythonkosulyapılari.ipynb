{
  "nbformat": 4,
  "nbformat_minor": 0,
  "metadata": {
    "colab": {
      "provenance": []
    },
    "kernelspec": {
      "name": "python3",
      "display_name": "Python 3"
    },
    "language_info": {
      "name": "python"
    }
  },
  "cells": [
    {
      "cell_type": "code",
      "execution_count": null,
      "metadata": {
        "colab": {
          "base_uri": "https://localhost:8080/"
        },
        "id": "1W6FO1QXy6p1",
        "outputId": "a4c535a7-5f36-40df-c1f1-33fc4808083d"
      },
      "outputs": [
        {
          "output_type": "stream",
          "name": "stdout",
          "text": [
            "Merhaba, İGÜ - İSTKA / Ders 4\n"
          ]
        }
      ],
      "source": [
        "print(\"Merhaba, İGÜ - İSTKA / Ders 4\") # ekrana çıktı yazdırır."
      ]
    },
    {
      "cell_type": "code",
      "source": [
        "from google.colab import drive #google colab - drive baglantisi\n",
        "drive.mount('/content/drive')"
      ],
      "metadata": {
        "colab": {
          "base_uri": "https://localhost:8080/"
        },
        "id": "EzXf_wrTzA-Y",
        "outputId": "97d07403-ac34-4a87-d9ec-5604b4657cd9"
      },
      "execution_count": null,
      "outputs": [
        {
          "output_type": "stream",
          "name": "stdout",
          "text": [
            "Drive already mounted at /content/drive; to attempt to forcibly remount, call drive.mount(\"/content/drive\", force_remount=True).\n"
          ]
        }
      ]
    },
    {
      "cell_type": "code",
      "source": [
        "import os\n",
        "os.chdir('/content/drive/My Drive/VERIYAPILARI_ISTKA')\n",
        "!pwd #kodun ciktisini dosya yolu olarak veren kod blogudur."
      ],
      "metadata": {
        "colab": {
          "base_uri": "https://localhost:8080/"
        },
        "id": "kLglzf7dzHxj",
        "outputId": "ccd281ee-8e09-4753-838f-7329f355fd3b"
      },
      "execution_count": null,
      "outputs": [
        {
          "output_type": "stream",
          "name": "stdout",
          "text": [
            "/content/drive/My Drive/VERIYAPILARI_ISTKA\n"
          ]
        }
      ]
    },
    {
      "cell_type": "markdown",
      "source": [
        "PYTHON Koşul Yapıları\n",
        "\n",
        "1.   if Koşul yapısı -> belirtilen şart doğruysa (True) bir bloğun çalıştırılmasını sağlamaktadır.\n",
        "2.   if-else Koşul yapısı -> if bloğu sağlanmazsa, else bloğu çalıştırılır.\n",
        "3.   if-elif-else Koşul yapısı -> Birden fazla koşul kontrol etmek için elif (else if) kullanılır. İlk doğru koşul bulunana kadar kontrol devam eder. Hiçbiri doğru değilse, else bloğu çalıştırılır.\n",
        "4.   İç İçe Koşullar\n",
        "5.   Mantıksal Operatörler ile Koşul Yapıları"
      ],
      "metadata": {
        "id": "IzhhnFpn2BRV"
      }
    },
    {
      "cell_type": "code",
      "source": [
        "# if kosul yapisi\n",
        "x = 10\n",
        "if x > 5:\n",
        "  print(\"x, 5'ten büyüktür.\")"
      ],
      "metadata": {
        "id": "45ovWbFszQYj",
        "colab": {
          "base_uri": "https://localhost:8080/"
        },
        "outputId": "9574db5c-b461-415e-a08b-5f69f527600e"
      },
      "execution_count": 11,
      "outputs": [
        {
          "output_type": "stream",
          "name": "stdout",
          "text": [
            "x, 5'ten büyüktür.\n"
          ]
        }
      ]
    },
    {
      "cell_type": "code",
      "source": [
        "# if-else kosulu yapisi\n",
        "x = 3\n",
        "\n",
        "if x > 5:\n",
        "  print(\"x, 5'ten büyüktür.\")\n",
        "else:\n",
        "  print(\"x, 5'ten küçüktür veya 5'e eşittir.\")"
      ],
      "metadata": {
        "id": "dpAqjZu5GWgw",
        "colab": {
          "base_uri": "https://localhost:8080/"
        },
        "outputId": "020984aa-590d-448c-954a-d3563ae6253b"
      },
      "execution_count": 15,
      "outputs": [
        {
          "output_type": "stream",
          "name": "stdout",
          "text": [
            "x, 5'ten küçüktür veya 5'e eşittir.\n"
          ]
        }
      ]
    },
    {
      "cell_type": "code",
      "source": [
        "#if-elif-else kosul yapisi\n",
        "x = 8\n",
        "\n",
        "if x > 10:\n",
        "  print(\"x, 10'dan büyüktür.\")\n",
        "elif x > 5:\n",
        "  print(\"x, 5'ten büyüktür ama 10'dan küçüktür.\")\n",
        "else:\n",
        "  print(\"x, 5'ten küçüktür veya 5'e eşittir.\")"
      ],
      "metadata": {
        "colab": {
          "base_uri": "https://localhost:8080/"
        },
        "id": "zT0DwFQLIw-i",
        "outputId": "8da7d77c-a4a1-412d-d10f-e4b7355c41e0"
      },
      "execution_count": 16,
      "outputs": [
        {
          "output_type": "stream",
          "name": "stdout",
          "text": [
            "x, 5'ten büyüktür ama 10'dan küçüktür.\n"
          ]
        }
      ]
    },
    {
      "cell_type": "code",
      "source": [
        "# ic ice kosul yapisi\n",
        "\n",
        "x = 12\n",
        "y = 8\n",
        "\n",
        "if x > 10:\n",
        "  if y > 5:\n",
        "    print(\"x, 10'dan büyüktür ve y, 5'ten büyüktür.\")\n",
        "  else:\n",
        "    print(\"x, 10'dan büyüktür ama y, 5'ten küçüktür.\")\n",
        "else:\n",
        "  print(\"x, 10'dan küçüktür veya 10'a eşittir.\")"
      ],
      "metadata": {
        "colab": {
          "base_uri": "https://localhost:8080/"
        },
        "id": "VI6YCcwtKCOA",
        "outputId": "324492da-0f79-4c72-ca1a-42db2979bd08"
      },
      "execution_count": 17,
      "outputs": [
        {
          "output_type": "stream",
          "name": "stdout",
          "text": [
            "x, 10'dan büyüktür ve y, 5'ten büyüktür.\n"
          ]
        }
      ]
    },
    {
      "cell_type": "code",
      "source": [
        "# Mantiksal operatorler ile kosullar\n",
        "\n",
        "x = 7\n",
        "y = 3\n",
        "\n",
        "# 'and' operatoru ile\n",
        "if x > 5 and y > 2:\n",
        "  print(\"x, 5'ten büyük ve y, 2'den büyüktür.\")\n",
        "\n",
        "# 'or' operatoru ile\n",
        "if x > 5 or y > 5:\n",
        "  print(\"x veya y 5'ten büyüktür.\")\n",
        "\n",
        "# 'not' operatoru ile\n",
        "if not(x > 10):\n",
        "  print(\"x, 10'dan büyük değildir.\")"
      ],
      "metadata": {
        "colab": {
          "base_uri": "https://localhost:8080/"
        },
        "id": "jU0HyPbEL9Z7",
        "outputId": "65584349-eba6-4f99-c4e7-7b3fe4fa57bd"
      },
      "execution_count": 20,
      "outputs": [
        {
          "output_type": "stream",
          "name": "stdout",
          "text": [
            "x, 5'ten büyük ve y, 2'den büyüktür.\n",
            "x veya y 5'ten büyüktür.\n",
            "x, 10'dan büyük değildir.\n"
          ]
        }
      ]
    },
    {
      "cell_type": "code",
      "source": [
        "# Ornek 1: Not Sistemi\n",
        "\n",
        "notu = 85\n",
        "\n",
        "if notu >=90:\n",
        "  print(\"Harf notu: A\")\n",
        "elif notu >= 80:\n",
        "  print(\"Harf notu: B\") # bu satir calisir.\n",
        "elif notu >= 70:\n",
        "  print(\"Harf notu: C\")\n",
        "elif notu >= 60:\n",
        "  print(\"Harf notu: D\")\n",
        "else:\n",
        "  print(\"Harf notu: F\") # integer bir bilgi verip string yapıda çıktı aldığımız bir örnek türüdür.\n"
      ],
      "metadata": {
        "colab": {
          "base_uri": "https://localhost:8080/"
        },
        "id": "9SObWky5Oe5Q",
        "outputId": "689a7335-e47a-47df-edec-a88b1663dcd7"
      },
      "execution_count": 25,
      "outputs": [
        {
          "output_type": "stream",
          "name": "stdout",
          "text": [
            "Harf notu: B\n"
          ]
        }
      ]
    },
    {
      "cell_type": "code",
      "source": [
        "# Ornek 2: Sayi pozitif, negatif veya sifir mi?\n",
        "\n",
        "sayi = -5\n",
        "\n",
        "if sayi > 0:\n",
        "  prirnt(\"Sayı pozitiftir.\")\n",
        "elif sayi < 0:\n",
        "  print(\"Sayı negatiftir.\")\n",
        "else:\n",
        "  print(\"Sayı sıfırdır.\")"
      ],
      "metadata": {
        "colab": {
          "base_uri": "https://localhost:8080/"
        },
        "id": "beeRh4moRwdj",
        "outputId": "09dffd0b-ef1a-4b14-ebec-b5c416cdd439"
      },
      "execution_count": 26,
      "outputs": [
        {
          "output_type": "stream",
          "name": "stdout",
          "text": [
            "Sayı negatiftir.\n"
          ]
        }
      ]
    },
    {
      "cell_type": "code",
      "source": [
        "# Ornek 3: Yas Kontrolu\n",
        "yas = 19\n",
        "\n",
        "if yas < 18:\n",
        "  print(\"Reşit değilsiniz.\")\n",
        "elif yas < 21:\n",
        "  print(\"Reşitsiniz ancak içecek alamazsınız.\")\n",
        "else:\n",
        "  print(\"İçecek alabilirsiniz.\")"
      ],
      "metadata": {
        "colab": {
          "base_uri": "https://localhost:8080/"
        },
        "id": "4IcqCw9VU-TH",
        "outputId": "b025a8a4-dfbf-4332-fbe0-7a4e9e8db3aa"
      },
      "execution_count": 27,
      "outputs": [
        {
          "output_type": "stream",
          "name": "stdout",
          "text": [
            "Reşitsiniz ancak içecek alamazsınız.\n"
          ]
        }
      ]
    },
    {
      "cell_type": "code",
      "source": [],
      "metadata": {
        "id": "ck7jafxFW09_"
      },
      "execution_count": null,
      "outputs": []
    }
  ]
}